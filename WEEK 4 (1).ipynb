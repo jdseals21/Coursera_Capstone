{
 "cells": [
  {
   "cell_type": "markdown",
   "id": "8537c065-4587-4deb-8ea1-f0d1de754615",
   "metadata": {},
   "source": [
    "# Week 4: Capstone Project"
   ]
  },
  {
   "cell_type": "markdown",
   "id": "a740a099-14d4-4f5d-9871-b2c7c1c131b5",
   "metadata": {},
   "source": [
    "## Part 1: Define a Problem"
   ]
  },
  {
   "cell_type": "markdown",
   "id": "2802335a-a9f6-44f5-8ea5-12d0c984b432",
   "metadata": {},
   "source": [
    "### A problem that I would like to resolve is where the best location would be to open a restaurant in Toronto,Canada. Foursquare API or Google API will be resourceful in determining a solution because of its ability to provide other data about where restaurants thrive in the city. It will give insight on the most fruitful location for a successful business. This is useful information to anyone looking to become a  restaurateur. Toronto is home to many athletes, entrepreneurs and other small business owners who may be interested in opening their own restaurant in hopes to become the next tourist attraction in the city. This large city brings in a lot of traction year-round for a multitude of reasons so, opening a restaurant in a prime location could be a life-changing business opportunity for anyone intrigued! "
   ]
  },
  {
   "cell_type": "markdown",
   "id": "c91e31cb-0f2e-48e8-86bf-2b79cc858563",
   "metadata": {},
   "source": [
    "## Part 2: What Data Will be Used?"
   ]
  },
  {
   "cell_type": "markdown",
   "id": "cfdb934a-81bf-4116-bb32-c7ce6742cee6",
   "metadata": {},
   "source": [
    "### The data that will be used to solve this problem will be from Go. I will need locations of the most successful, highly rated and frequently visited restaurants in the city. I can use this data to able to suggest a prime location. For example, if there is a location in downtown Toronto near most restaurants that have success then, the code and the maps from the code will be able to display that and it can be considered."
   ]
  },
  {
   "cell_type": "code",
   "execution_count": null,
   "id": "aed0ff93-81ac-4af0-8955-bbbb89d07f29",
   "metadata": {},
   "outputs": [],
   "source": []
  }
 ],
 "metadata": {
  "kernelspec": {
   "display_name": "Python",
   "language": "python",
   "name": "conda-env-python-py"
  },
  "language_info": {
   "codemirror_mode": {
    "name": "ipython",
    "version": 3
   },
   "file_extension": ".py",
   "mimetype": "text/x-python",
   "name": "python",
   "nbconvert_exporter": "python",
   "pygments_lexer": "ipython3",
   "version": "3.6.13"
  }
 },
 "nbformat": 4,
 "nbformat_minor": 5
}
